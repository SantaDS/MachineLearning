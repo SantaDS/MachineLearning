{
 "cells": [
  {
   "cell_type": "markdown",
   "metadata": {},
   "source": [
    "# Short and Long Term Video Memorability\n",
    "### MediaEval 2018"
   ]
  },
  {
   "cell_type": "markdown",
   "metadata": {
    "colab_type": "text",
    "id": "wpE5DJCDbuoz"
   },
   "source": [
    "**Code Flow**\n",
    "\n",
    "This code was run on Google Colab environment. \n",
    "\n",
    "1.   Shared data folder 'CA684_Assignment_Data' was saved in my local drive and mounted at '/content/drive/'\n",
    "\n",
    "2.   Base path has been set to '/content/drive/My Drive/CA684_Assignment_Data'\n",
    "\n",
    "3.   Stopwords were downloaded from nltk package. Also pyprind packages was installed (!pip install pyprind)\n",
    "\n",
    "4.   All required packages are imported and required functions are defined\n",
    "\n",
    "5.   Data are preprocessed and made ready for feeding into model\n",
    "\n",
    "6.   As mentioned in the paper (Section 3.2), I make three different models with different set of input features and evaluated the performance of these predictive models"
   ]
  },
  {
   "cell_type": "code",
   "execution_count": 95,
   "metadata": {
    "colab": {
     "base_uri": "https://localhost:8080/",
     "height": 54
    },
    "colab_type": "code",
    "id": "qUkMn24AP4gF",
    "outputId": "433dac45-1c65-4ceb-ae64-171f579a8a2b"
   },
   "outputs": [
    {
     "name": "stdout",
     "output_type": "stream",
     "text": [
      "Drive already mounted at /content/drive; to attempt to forcibly remount, call drive.mount(\"/content/drive\", force_remount=True).\n"
     ]
    }
   ],
   "source": [
    "# Mounting My Drive\n",
    "\n",
    "from google.colab import drive\n",
    "drive.mount('/content/drive')\n"
   ]
  },
  {
   "cell_type": "markdown",
   "metadata": {
    "colab_type": "text",
    "id": "VxMTknL0oQCt"
   },
   "source": [
    "**Set the base path of the  'CA684_Assignment_Data' folder**"
   ]
  },
  {
   "cell_type": "code",
   "execution_count": 0,
   "metadata": {
    "colab": {},
    "colab_type": "code",
    "collapsed": true,
    "id": "ImnHgapcDz7r"
   },
   "outputs": [],
   "source": [
    "basePath = '/content/drive/My Drive/CA684_Assignment_Data'"
   ]
  },
  {
   "cell_type": "markdown",
   "metadata": {
    "colab_type": "text",
    "id": "iTwuAW4XoeFh"
   },
   "source": [
    "**Need to download nltk stopwords package**"
   ]
  },
  {
   "cell_type": "code",
   "execution_count": 97,
   "metadata": {
    "colab": {
     "base_uri": "https://localhost:8080/",
     "height": 68
    },
    "colab_type": "code",
    "id": "aggdw8QU-6A8",
    "outputId": "ed754793-89c4-446b-f938-d99c61ef1cc2"
   },
   "outputs": [
    {
     "name": "stdout",
     "output_type": "stream",
     "text": [
      "[nltk_data] Downloading package stopwords to /root/nltk_data...\n",
      "[nltk_data]   Package stopwords is already up-to-date!\n"
     ]
    },
    {
     "data": {
      "text/plain": [
       "True"
      ]
     },
     "execution_count": 97,
     "metadata": {
      "tags": []
     },
     "output_type": "execute_result"
    }
   ],
   "source": [
    "import nltk\n",
    "nltk.download('stopwords')"
   ]
  },
  {
   "cell_type": "markdown",
   "metadata": {
    "colab_type": "text",
    "id": "8vV8e8IKoqw8"
   },
   "source": [
    "**Installing progress tracker**"
   ]
  },
  {
   "cell_type": "code",
   "execution_count": 98,
   "metadata": {
    "colab": {
     "base_uri": "https://localhost:8080/",
     "height": 34
    },
    "colab_type": "code",
    "id": "qjlQ9eSHoMl7",
    "outputId": "9b1873aa-9076-411e-a50b-ddf923fa4087"
   },
   "outputs": [
    {
     "name": "stdout",
     "output_type": "stream",
     "text": [
      "Requirement already satisfied: pyprind in /usr/local/lib/python3.6/dist-packages (2.11.2)\n"
     ]
    }
   ],
   "source": [
    "!pip install pyprind"
   ]
  },
  {
   "cell_type": "code",
   "execution_count": 0,
   "metadata": {
    "colab": {},
    "colab_type": "code",
    "collapsed": true,
    "id": "NhX92wtkQDE1"
   },
   "outputs": [],
   "source": [
    "# Importing all required packages\n",
    "\n",
    "import numpy as np\n",
    "import pandas as pd\n",
    "import pyprind\n",
    "import seaborn as sns\n",
    "from string import punctuation\n",
    "from nltk.corpus import stopwords\n",
    "from textblob import TextBlob\n",
    "from collections import Counter\n",
    "import matplotlib.pyplot as plt\n",
    "import tensorflow as tf\n",
    "import keras\n",
    "from keras.models import Model, Sequential\n",
    "from keras import preprocessing, regularizers, backend as K\n",
    "from keras.preprocessing.text import Tokenizer\n",
    "from keras.preprocessing.sequence import pad_sequences\n",
    "from keras.layers import Input, Dense, Lambda, LSTM, Embedding, Flatten, Dropout, concatenate\n",
    "\n",
    "# for reproducability\n",
    "from numpy.random import seed\n",
    "seed(1)\n",
    "from tensorflow import set_random_seed\n",
    "set_random_seed(1) "
   ]
  },
  {
   "cell_type": "code",
   "execution_count": 0,
   "metadata": {
    "colab": {},
    "colab_type": "code",
    "collapsed": true,
    "id": "EjYzajSl6MoQ"
   },
   "outputs": [],
   "source": [
    "# define all functions required\n",
    "\n",
    "def Get_score(Y_pred,Y_true):\n",
    "    '''Calculate the Spearmann\"s correlation coefficient'''\n",
    "    Y_pred = np.squeeze(Y_pred)\n",
    "    Y_true = np.squeeze(Y_true)\n",
    "    if Y_pred.shape != Y_true.shape:\n",
    "        print('Input shapes don\\'t match!')\n",
    "    else:\n",
    "        if len(Y_pred.shape) == 1:\n",
    "            Res = pd.DataFrame({'Y_true':Y_true,'Y_pred':Y_pred})\n",
    "            score_mat = Res[['Y_true','Y_pred']].corr(method='spearman',min_periods=1)\n",
    "            print('The Spearman\\'s correlation coefficient is: %.3f' % score_mat.iloc[1][0])\n",
    "        else:\n",
    "            for ii in range(Y_pred.shape[1]):\n",
    "                Get_score(Y_pred[:,ii],Y_true[:,ii])\n",
    "\n",
    "def vname2ID(vnames):\n",
    "    \"\"\"Parse video digital id from its name\n",
    "    vnames: a list contains file names\"\"\"\n",
    "    vid = [ os.path.splitext(vn)[0][5:] for vn in vnames]\n",
    "    return vid\n",
    "\n",
    "def read_C3D(fname):\n",
    "    \"\"\"Scan vectors from file\"\"\"\n",
    "    with open(fname) as f:\n",
    "        for line in f:\n",
    "            C3D =[float(item) for item in line.split()] # convert to float type, using default separator\n",
    "    return C3D\n",
    "\n",
    "def read_HMP(fname):\n",
    "    \"\"\"Scan HMP(Histogram of Motion Patterns) features from file\"\"\"\n",
    "    with open(fname) as f:\n",
    "        for line in f:\n",
    "            pairs=line.split()\n",
    "            HMP_temp = { int(p.split(':')[0]) : float(p.split(':')[1]) for p in pairs}\n",
    "    # there are 6075 bins, fill zeros\n",
    "    HMP = np.zeros(6075)\n",
    "    for idx in HMP_temp.keys():\n",
    "        HMP[idx-1] = HMP_temp[idx]            \n",
    "    return HMP\n",
    "\n",
    "def read_ColorHistogram(fname):\n",
    "    \"\"\"Scan Color Histogram from file\n",
    "    Input file contains RGB histogram,\n",
    "    Return a matrix of (3,256)\"\"\"\n",
    "    RGB_Hist = np.zeros((3,256))\n",
    "    with open(fname) as f:\n",
    "        i_l = 0 # line index\n",
    "        for line in f:\n",
    "            pairs = line.split()\n",
    "            hist_dict = {int(p.split(':')[0]):float(p.split(':')[1]) for p in pairs}\n",
    "            for idx in hist_dict.keys():\n",
    "                RGB_Hist[i_l,idx] = hist_dict[idx]\n",
    "            i_l += 1\n",
    "    return RGB_Hist\n",
    "\n",
    "def read_HOG(fname):\n",
    "    \"\"\"Scan vectors from file\"\"\"\n",
    "    with open(fname) as f:\n",
    "        for line in f:\n",
    "            HOG =[float(item) for item in line.split()] # convert to float type, using default separator\n",
    "    return HOG\n",
    "\n",
    "def read_caps(fname):\n",
    "    \"\"\"Load the captions into a dataframe\"\"\"\n",
    "    vn = []\n",
    "    cap = []\n",
    "    df = pd.DataFrame();\n",
    "    with open(fname) as f:\n",
    "        for line in f:\n",
    "            pairs = line.split()\n",
    "            vn.append(pairs[0])\n",
    "            cap.append(pairs[1])\n",
    "        df['video']=vn\n",
    "        df['caption']=cap\n",
    "    return df\n",
    "\n",
    "def getOtherFeatures(df_cap_train):\n",
    "    df_cap_train['sentimentScore'] = df_cap_train['caption'].apply(lambda x: TextBlob(x).sentiment[0])\n",
    "    df_cap_train['wordCount'] = df_cap_train['caption'].apply(lambda x: len(x.split(' ')))\n",
    "    stop = set(stopwords.words('english'))\n",
    "    df_cap_train['capWthoutStopwrds'] = df_cap_train['caption'].apply(lambda x: ' '.join([word for word in x.split() if word not in (stop)]))\n",
    "    return df_cap_train\n",
    "\n",
    "def getVideoFileNames(fname):\n",
    "    videoFileNames = []\n",
    "    with open(fname) as f:\n",
    "      for line in f:\n",
    "        pairs=line.split()\n",
    "        videoFileNames.append(pairs[0][:-5])\n",
    "    return videoFileNames"
   ]
  },
  {
   "cell_type": "markdown",
   "metadata": {
    "colab_type": "text",
    "id": "GdpzYHoilxk_"
   },
   "source": [
    "**Loading and processing caption data**"
   ]
  },
  {
   "cell_type": "code",
   "execution_count": 101,
   "metadata": {
    "colab": {
     "base_uri": "https://localhost:8080/",
     "height": 306
    },
    "colab_type": "code",
    "id": "EiOjcHE0mQxK",
    "outputId": "69a2d5c2-e7e3-487c-b0b1-20085e450781"
   },
   "outputs": [
    {
     "name": "stderr",
     "output_type": "stream",
     "text": [
      "Counting word occurrences\n"
     ]
    },
    {
     "name": "stdout",
     "output_type": "stream",
     "text": [
      "Shape of train data:  (6000, 2)\n",
      "Shape of test data:  (2000, 2)\n",
      "shape after concatenation (8000, 2)\n"
     ]
    },
    {
     "name": "stderr",
     "output_type": "stream",
     "text": [
      "0% [##############################] 100% | ETA: 00:00:00\n",
      "Total time elapsed: 00:00:06\n"
     ]
    },
    {
     "data": {
      "text/html": [
       "<div>\n",
       "<style scoped>\n",
       "    .dataframe tbody tr th:only-of-type {\n",
       "        vertical-align: middle;\n",
       "    }\n",
       "\n",
       "    .dataframe tbody tr th {\n",
       "        vertical-align: top;\n",
       "    }\n",
       "\n",
       "    .dataframe thead th {\n",
       "        text-align: right;\n",
       "    }\n",
       "</style>\n",
       "<table border=\"1\" class=\"dataframe\">\n",
       "  <thead>\n",
       "    <tr style=\"text-align: right;\">\n",
       "      <th></th>\n",
       "      <th>video</th>\n",
       "      <th>caption</th>\n",
       "    </tr>\n",
       "  </thead>\n",
       "  <tbody>\n",
       "    <tr>\n",
       "      <th>0</th>\n",
       "      <td>video3.webm</td>\n",
       "      <td>blonde woman is massaged tilt down</td>\n",
       "    </tr>\n",
       "    <tr>\n",
       "      <th>1</th>\n",
       "      <td>video4.webm</td>\n",
       "      <td>roulette table spinning with ball in closeup shot</td>\n",
       "    </tr>\n",
       "    <tr>\n",
       "      <th>2</th>\n",
       "      <td>video6.webm</td>\n",
       "      <td>khr gangsters</td>\n",
       "    </tr>\n",
       "    <tr>\n",
       "      <th>3</th>\n",
       "      <td>video8.webm</td>\n",
       "      <td>medical helicopter hovers at airport</td>\n",
       "    </tr>\n",
       "    <tr>\n",
       "      <th>4</th>\n",
       "      <td>video10.webm</td>\n",
       "      <td>couple relaxing on picnic crane shot</td>\n",
       "    </tr>\n",
       "  </tbody>\n",
       "</table>\n",
       "</div>"
      ],
      "text/plain": [
       "          video                                            caption\n",
       "0   video3.webm                 blonde woman is massaged tilt down\n",
       "1   video4.webm  roulette table spinning with ball in closeup shot\n",
       "2   video6.webm                                      khr gangsters\n",
       "3   video8.webm               medical helicopter hovers at airport\n",
       "4  video10.webm               couple relaxing on picnic crane shot"
      ]
     },
     "execution_count": 101,
     "metadata": {
      "tags": []
     },
     "output_type": "execute_result"
    }
   ],
   "source": [
    "# load the captions from dev-set\n",
    "cap_path = basePath + '/dev-set/dev-set_video-captions.txt'\n",
    "df_cap_train=read_caps(cap_path)\n",
    "print('Shape of train data: ',df_cap_train.shape)\n",
    "\n",
    "# load the captions from test-set\n",
    "cap_path = basePath + '/test-set/test-set-1_video-captions.txt'\n",
    "df_cap_test=read_caps(cap_path)\n",
    "print('Shape of test data: ',df_cap_test.shape)\n",
    "\n",
    "df_cap = pd.concat([df_cap_train,df_cap_test],ignore_index=True)\n",
    "print('shape after concatenation',df_cap.shape)\n",
    "\n",
    "# load the ground truth values from dev-set\n",
    "labels=pd.read_csv(basePath+'/dev-set/dev-set_ground-truth.csv')\n",
    "\n",
    "counts = Counter()\n",
    "# setup prograss tracker\n",
    "pbar = pyprind.ProgBar(len(df_cap['caption']), title='Counting word occurrences')\n",
    "for i, cap in enumerate(df_cap['caption']):\n",
    "    # replacing all punctuations with spaces\n",
    "    # converting words to lower case\n",
    "    text = ''.join([c if c not in punctuation else ' ' for c in cap]).lower()\n",
    "    df_cap.loc[i,'caption'] = text\n",
    "    pbar.update()\n",
    "    counts.update(text.split())\n",
    "    \n",
    "df_cap.head()"
   ]
  },
  {
   "cell_type": "code",
   "execution_count": 102,
   "metadata": {
    "colab": {
     "base_uri": "https://localhost:8080/",
     "height": 255
    },
    "colab_type": "code",
    "id": "ENLa_ujh45p6",
    "outputId": "9cca798d-59eb-4a84-ec9f-c1291bf97f42"
   },
   "outputs": [
    {
     "name": "stderr",
     "output_type": "stream",
     "text": [
      "Counting word occurrences\n",
      "0% [##############################] 100% | ETA: 00:00:00\n",
      "Total time elapsed: 00:00:00\n"
     ]
    },
    {
     "data": {
      "text/html": [
       "<div>\n",
       "<style scoped>\n",
       "    .dataframe tbody tr th:only-of-type {\n",
       "        vertical-align: middle;\n",
       "    }\n",
       "\n",
       "    .dataframe tbody tr th {\n",
       "        vertical-align: top;\n",
       "    }\n",
       "\n",
       "    .dataframe thead th {\n",
       "        text-align: right;\n",
       "    }\n",
       "</style>\n",
       "<table border=\"1\" class=\"dataframe\">\n",
       "  <thead>\n",
       "    <tr style=\"text-align: right;\">\n",
       "      <th></th>\n",
       "      <th>video</th>\n",
       "      <th>caption</th>\n",
       "    </tr>\n",
       "  </thead>\n",
       "  <tbody>\n",
       "    <tr>\n",
       "      <th>0</th>\n",
       "      <td>video7494.webm</td>\n",
       "      <td>green jeep struggling to drive over huge rocks</td>\n",
       "    </tr>\n",
       "    <tr>\n",
       "      <th>1</th>\n",
       "      <td>video7495.webm</td>\n",
       "      <td>hiking woman tourist is walking forward in mou...</td>\n",
       "    </tr>\n",
       "    <tr>\n",
       "      <th>2</th>\n",
       "      <td>video7496.webm</td>\n",
       "      <td>close up of african american doctors hands usi...</td>\n",
       "    </tr>\n",
       "    <tr>\n",
       "      <th>3</th>\n",
       "      <td>video7497.webm</td>\n",
       "      <td>slow motion of a man using treadmill in the gy...</td>\n",
       "    </tr>\n",
       "    <tr>\n",
       "      <th>4</th>\n",
       "      <td>video7498.webm</td>\n",
       "      <td>slow motion of photographer in national park</td>\n",
       "    </tr>\n",
       "  </tbody>\n",
       "</table>\n",
       "</div>"
      ],
      "text/plain": [
       "            video                                            caption\n",
       "0  video7494.webm     green jeep struggling to drive over huge rocks\n",
       "1  video7495.webm  hiking woman tourist is walking forward in mou...\n",
       "2  video7496.webm  close up of african american doctors hands usi...\n",
       "3  video7497.webm  slow motion of a man using treadmill in the gy...\n",
       "4  video7498.webm       slow motion of photographer in national park"
      ]
     },
     "execution_count": 102,
     "metadata": {
      "tags": []
     },
     "output_type": "execute_result"
    }
   ],
   "source": [
    "counts = Counter()\n",
    "# setup prograss tracker\n",
    "pbar = pyprind.ProgBar(len(df_cap_test['caption']), title='Counting word occurrences')\n",
    "for i, cap in enumerate(df_cap_test['caption']):\n",
    "    text = ''.join([c if c not in punctuation else ' ' for c in cap]).lower()\n",
    "    df_cap_test.loc[i,'caption'] = text\n",
    "    pbar.update()\n",
    "    counts.update(text.split())\n",
    "    \n",
    "df_cap_test.head()"
   ]
  },
  {
   "cell_type": "code",
   "execution_count": 103,
   "metadata": {
    "colab": {
     "base_uri": "https://localhost:8080/",
     "height": 34
    },
    "colab_type": "code",
    "id": "NZq4ajYn8yRb",
    "outputId": "d6d1a232-34a2-4b1d-96a5-375b814b6e62"
   },
   "outputs": [
    {
     "name": "stdout",
     "output_type": "stream",
     "text": [
      "(6000,) (6000,)\n"
     ]
    }
   ],
   "source": [
    "# For Test Data\n",
    "df_cap_test['caption'] = df_cap_test['caption'].map(lambda x: x.replace('-', ' '))\n",
    "df_cap_test['caption'] = df_cap_test['caption'].str.lower()\n",
    "caption_test_sent_df = getOtherFeatures(df_cap_test)\n",
    "\n",
    "sentiment_test_data = caption_test_sent_df.sentimentScore.values\n",
    "sentiment_test_data = np.around(sentiment_test_data, 2)\n",
    "\n",
    "word_count_test_data = caption_test_sent_df.wordCount.values\n",
    "\n",
    "# For Train Data\n",
    "df_cap_train['caption'] = df_cap_train['caption'].map(lambda x: x.replace('-', ' '))\n",
    "df_cap_train['caption'] = df_cap_train['caption'].str.lower()\n",
    "caption_sent_df = getOtherFeatures(df_cap_train)\n",
    "\n",
    "sentiment_data = caption_sent_df.sentimentScore.values\n",
    "sentiment_data = np.around(sentiment_data, 2)\n",
    "\n",
    "word_count_data = caption_sent_df.wordCount.values\n",
    "\n",
    "print(sentiment_data.shape, word_count_data.shape)"
   ]
  },
  {
   "cell_type": "code",
   "execution_count": 0,
   "metadata": {
    "colab": {},
    "colab_type": "code",
    "collapsed": true,
    "id": "ov_kReuQojqx"
   },
   "outputs": [],
   "source": [
    "seqLen=np.zeros(len(df_cap))\n",
    "for c in range(len(df_cap)):\n",
    "  text = df_cap.caption[c]\n",
    "  seqLen[c]=len(text.split())\n",
    "\n",
    "maxlen = int(max(seqLen))\n",
    "\n",
    "# Making word tokens\n",
    "len_token = len(counts)\n",
    "tokenizer = Tokenizer(num_words=len_token)\n",
    "tokenizer.fit_on_texts(list(df_cap.caption.values))\n",
    "sequences = tokenizer.texts_to_sequences(list(df_cap_train.capWthoutStopwrds.values))\n",
    "\n",
    "X_seq = preprocessing.sequence.pad_sequences(sequences,maxlen=maxlen)\n",
    "test_sequences = tokenizer.texts_to_sequences(list(df_cap_test.caption.values))\n",
    "X_test = preprocessing.sequence.pad_sequences(test_sequences,maxlen=maxlen)\n",
    "\n",
    "Y = labels[['short-term_memorability','long-term_memorability']].values\n",
    "X = X_seq\n",
    "X_all = np.concatenate([X,X_test])\n",
    "\n",
    "\n",
    "X_train = X[0:5000]\n",
    "X_val = X[5000:]\n",
    "Y_train = Y[0:5000]\n",
    "Y_val = Y[5000:]\n",
    "\n",
    "# split data into train and validation\n",
    "sentiment_data_train = sentiment_data[0:5000]\n",
    "sentiment_data_val = sentiment_data[5000:]\n",
    "\n",
    "word_count_data_train = word_count_data[0:5000]\n",
    "word_count_data_val = word_count_data[5000:]\n"
   ]
  },
  {
   "cell_type": "markdown",
   "metadata": {
    "colab_type": "text",
    "id": "TrzP8dK4gJHM"
   },
   "source": [
    "**Correlation between short term and long term memorability**"
   ]
  },
  {
   "cell_type": "code",
   "execution_count": 105,
   "metadata": {
    "colab": {
     "base_uri": "https://localhost:8080/",
     "height": 318
    },
    "colab_type": "code",
    "id": "-J1XDUhfof3g",
    "outputId": "5adfe913-0e93-467c-90f9-8f929b1cff70"
   },
   "outputs": [
    {
     "data": {
      "text/plain": [
       "Text(0.5, 1.0, 'Pearson Correlation: 0.325')"
      ]
     },
     "execution_count": 105,
     "metadata": {
      "tags": []
     },
     "output_type": "execute_result"
    },
    {
     "data": {
      "image/png": "[encoded data removed]",
      "text/plain": [
       "<Figure size 432x288 with 1 Axes>"
      ]
     },
     "metadata": {
      "tags": []
     },
     "output_type": "display_data"
    }
   ],
   "source": [
    "sns.set(color_codes=True)\n",
    "fig=sns.regplot(x='short-term_memorability', y=\"long-term_memorability\", data=labels, color='#bc922d');\n",
    "fig.axes.set_xlabel('short-term memorability')\n",
    "fig.axes.set_ylabel('long-term memorability')\n",
    "fig.axes.set_title('Pearson Correlation: %.3f' % np.corrcoef(Y.T)[0,1])"
   ]
  },
  {
   "cell_type": "markdown",
   "metadata": {
    "colab_type": "text",
    "id": "7s-6yIIdgS56"
   },
   "source": [
    "**Correlation between short term memorability and absolute sentiment scores**"
   ]
  },
  {
   "cell_type": "code",
   "execution_count": 106,
   "metadata": {
    "colab": {
     "base_uri": "https://localhost:8080/",
     "height": 301
    },
    "colab_type": "code",
    "id": "K9fMrKQbKzKW",
    "outputId": "99deffea-1135-4ca7-b992-d2db92af40e0"
   },
   "outputs": [
    {
     "data": {
      "image/png": "[encoded data removed]",
      "text/plain": [
       "<Figure size 432x288 with 1 Axes>"
      ]
     },
     "metadata": {
      "tags": []
     },
     "output_type": "display_data"
    }
   ],
   "source": [
    "sentiment_data_abs = np.abs(sentiment_data)\n",
    "sns.set(color_codes=True)\n",
    "df = pd.DataFrame({'x':sentiment_data_abs, 'y':labels['short-term_memorability'].values})\n",
    "\n",
    "fig=sns.regplot(x='x', y=\"y\", data=df, color='#bc922d');\n",
    "fig.axes.set_xlabel('sentiment score')\n",
    "fig.axes.set_ylabel('short-term memorability')\n",
    "fig.axes.set_title('Pearson Correlation: %.3f' % np.corrcoef(Y.T)[0,1])\n",
    "plt.savefig('SentimentVsShortMem.eps')"
   ]
  },
  {
   "cell_type": "markdown",
   "metadata": {
    "colab_type": "text",
    "id": "9K5mcLEZggL2"
   },
   "source": [
    "**Correlation between long term memorability and absolute sentiment scores**"
   ]
  },
  {
   "cell_type": "code",
   "execution_count": 107,
   "metadata": {
    "colab": {
     "base_uri": "https://localhost:8080/",
     "height": 301
    },
    "colab_type": "code",
    "id": "Z4kbDCyHRh2t",
    "outputId": "9542a2ce-eac1-43a0-8ff8-436ee8acc0e7"
   },
   "outputs": [
    {
     "data": {
      "image/png": "[encoded data removed]",
      "text/plain": [
       "<Figure size 432x288 with 1 Axes>"
      ]
     },
     "metadata": {
      "tags": []
     },
     "output_type": "display_data"
    }
   ],
   "source": [
    "sentiment_data_abs = np.abs(sentiment_data)\n",
    "sns.set(color_codes=True)\n",
    "df = pd.DataFrame({'x':sentiment_data_abs, 'y':labels['long-term_memorability'].values})\n",
    "\n",
    "fig=sns.regplot(x='x', y=\"y\", data=df, color='#bc922d');\n",
    "fig.axes.set_xlabel('sentiment score')\n",
    "fig.axes.set_ylabel('long-term memorability')\n",
    "fig.axes.set_title('Pearson Correlation: %.3f' % np.corrcoef(Y.T)[0,1])\n",
    "plt.savefig('SentimentVsLongMem.eps')"
   ]
  },
  {
   "cell_type": "markdown",
   "metadata": {
    "colab_type": "text",
    "id": "_fOD-uaWvOTm"
   },
   "source": [
    "**Building Model with Caption and Sentiment features**"
   ]
  },
  {
   "cell_type": "code",
   "execution_count": 108,
   "metadata": {
    "colab": {
     "base_uri": "https://localhost:8080/",
     "height": 391
    },
    "colab_type": "code",
    "id": "158AUyha3vM-",
    "outputId": "8d9d7ea0-c281-4ca9-ca85-32f0d729e93a"
   },
   "outputs": [
    {
     "name": "stdout",
     "output_type": "stream",
     "text": [
      "__________________________________________________________________________________________________\n",
      "Layer (type)                    Output Shape         Param #     Connected to                     \n",
      "==================================================================================================\n",
      "caption_input (InputLayer)      (None, 37)           0                                            \n",
      "__________________________________________________________________________________________________\n",
      "embedding_5 (Embedding)         (None, 37, 15)       47955       caption_input[0][0]              \n",
      "__________________________________________________________________________________________________\n",
      "lstm_5 (LSTM)                   (None, 32)           6144        embedding_5[0][0]                \n",
      "__________________________________________________________________________________________________\n",
      "sentiment_input (InputLayer)    (None, 1)            0                                            \n",
      "__________________________________________________________________________________________________\n",
      "concatenate_5 (Concatenate)     (None, 33)           0           lstm_5[0][0]                     \n",
      "                                                                 sentiment_input[0][0]            \n",
      "__________________________________________________________________________________________________\n",
      "dense_9 (Dense)                 (None, 10)           340         concatenate_5[0][0]              \n",
      "__________________________________________________________________________________________________\n",
      "dense_10 (Dense)                (None, 2)            22          dense_9[0][0]                    \n",
      "==================================================================================================\n",
      "Total params: 54,461\n",
      "Trainable params: 54,461\n",
      "Non-trainable params: 0\n",
      "__________________________________________________________________________________________________\n"
     ]
    }
   ],
   "source": [
    "# Building the model using Keras Functional API\n",
    "\n",
    "caption_input = Input(shape=(maxlen,), dtype='int32', name='caption_input')\n",
    "sentiment_input = Input(shape=(1,), name='sentiment_input')\n",
    "\n",
    "x = Embedding(1+X_all.max(),15,input_length=maxlen)(caption_input)\n",
    "x = LSTM(32)(x)\n",
    "x = concatenate([x, sentiment_input])\n",
    "x = Dense(10,activation='relu',kernel_regularizer=regularizers.l1_l2(l1=0.001,l2=0.004))(x)\n",
    "out = Dense(2,activation='sigmoid')(x)\n",
    "\n",
    "model = Model(inputs=[caption_input, sentiment_input], outputs=out)\n",
    "model.compile(optimizer='rmsprop',loss='mae',metrics=['acc'])\n",
    "\n",
    "model.summary()"
   ]
  },
  {
   "cell_type": "code",
   "execution_count": 52,
   "metadata": {
    "colab": {
     "base_uri": "https://localhost:8080/",
     "height": 1754
    },
    "colab_type": "code",
    "id": "yyz1pTYppZu3",
    "outputId": "d4d88965-5be5-4f69-da0d-c8bf2456c6bb"
   },
   "outputs": [
    {
     "name": "stdout",
     "output_type": "stream",
     "text": [
      "Train on 5000 samples, validate on 1000 samples\n",
      "Epoch 1/50\n",
      "5000/5000 [==============================] - 11s 2ms/step - loss: 0.1741 - acc: 0.7006 - val_loss: 0.1313 - val_acc: 0.7090\n",
      "Epoch 2/50\n",
      "5000/5000 [==============================] - 10s 2ms/step - loss: 0.1118 - acc: 0.7040 - val_loss: 0.1012 - val_acc: 0.7090\n",
      "Epoch 3/50\n",
      "5000/5000 [==============================] - 10s 2ms/step - loss: 0.0950 - acc: 0.7040 - val_loss: 0.0956 - val_acc: 0.7090\n",
      "Epoch 4/50\n",
      "5000/5000 [==============================] - 10s 2ms/step - loss: 0.0893 - acc: 0.7040 - val_loss: 0.0920 - val_acc: 0.7090\n",
      "Epoch 5/50\n",
      "5000/5000 [==============================] - 12s 2ms/step - loss: 0.0858 - acc: 0.7040 - val_loss: 0.0904 - val_acc: 0.7090\n",
      "Epoch 6/50\n",
      "5000/5000 [==============================] - 11s 2ms/step - loss: 0.0832 - acc: 0.7040 - val_loss: 0.0899 - val_acc: 0.7090\n",
      "Epoch 7/50\n",
      "5000/5000 [==============================] - 11s 2ms/step - loss: 0.0811 - acc: 0.7040 - val_loss: 0.0911 - val_acc: 0.7090\n",
      "Epoch 8/50\n",
      "5000/5000 [==============================] - 10s 2ms/step - loss: 0.0795 - acc: 0.7040 - val_loss: 0.0938 - val_acc: 0.7090\n",
      "Epoch 9/50\n",
      "5000/5000 [==============================] - 10s 2ms/step - loss: 0.0782 - acc: 0.7040 - val_loss: 0.0945 - val_acc: 0.7090\n",
      "Epoch 10/50\n",
      "5000/5000 [==============================] - 10s 2ms/step - loss: 0.0772 - acc: 0.7040 - val_loss: 0.0922 - val_acc: 0.7090\n",
      "Epoch 11/50\n",
      "5000/5000 [==============================] - 10s 2ms/step - loss: 0.0759 - acc: 0.7040 - val_loss: 0.0929 - val_acc: 0.7090\n",
      "Epoch 12/50\n",
      "5000/5000 [==============================] - 11s 2ms/step - loss: 0.0750 - acc: 0.7040 - val_loss: 0.0928 - val_acc: 0.7090\n",
      "Epoch 13/50\n",
      "5000/5000 [==============================] - 11s 2ms/step - loss: 0.0737 - acc: 0.7040 - val_loss: 0.0927 - val_acc: 0.7090\n",
      "Epoch 14/50\n",
      "5000/5000 [==============================] - 10s 2ms/step - loss: 0.0730 - acc: 0.7040 - val_loss: 0.0944 - val_acc: 0.7090\n",
      "Epoch 15/50\n",
      "5000/5000 [==============================] - 10s 2ms/step - loss: 0.0720 - acc: 0.7040 - val_loss: 0.0944 - val_acc: 0.7090\n",
      "Epoch 16/50\n",
      "5000/5000 [==============================] - 10s 2ms/step - loss: 0.0713 - acc: 0.7040 - val_loss: 0.0947 - val_acc: 0.7090\n",
      "Epoch 17/50\n",
      "5000/5000 [==============================] - 10s 2ms/step - loss: 0.0706 - acc: 0.7040 - val_loss: 0.0964 - val_acc: 0.7090\n",
      "Epoch 18/50\n",
      "5000/5000 [==============================] - 10s 2ms/step - loss: 0.0699 - acc: 0.7040 - val_loss: 0.0965 - val_acc: 0.7090\n",
      "Epoch 19/50\n",
      "5000/5000 [==============================] - 10s 2ms/step - loss: 0.0692 - acc: 0.7040 - val_loss: 0.0964 - val_acc: 0.7090\n",
      "Epoch 20/50\n",
      "5000/5000 [==============================] - 12s 2ms/step - loss: 0.0684 - acc: 0.7040 - val_loss: 0.0984 - val_acc: 0.7090\n",
      "Epoch 21/50\n",
      "5000/5000 [==============================] - 10s 2ms/step - loss: 0.0680 - acc: 0.7040 - val_loss: 0.0967 - val_acc: 0.7090\n",
      "Epoch 22/50\n",
      "5000/5000 [==============================] - 10s 2ms/step - loss: 0.0674 - acc: 0.7040 - val_loss: 0.0963 - val_acc: 0.7090\n",
      "Epoch 23/50\n",
      "5000/5000 [==============================] - 10s 2ms/step - loss: 0.0663 - acc: 0.7040 - val_loss: 0.0985 - val_acc: 0.7090\n",
      "Epoch 24/50\n",
      "5000/5000 [==============================] - 10s 2ms/step - loss: 0.0657 - acc: 0.7040 - val_loss: 0.0992 - val_acc: 0.7090\n",
      "Epoch 25/50\n",
      "5000/5000 [==============================] - 10s 2ms/step - loss: 0.0650 - acc: 0.7036 - val_loss: 0.0957 - val_acc: 0.6850\n",
      "Epoch 26/50\n",
      "5000/5000 [==============================] - 10s 2ms/step - loss: 0.0643 - acc: 0.7130 - val_loss: 0.0968 - val_acc: 0.6790\n",
      "Epoch 27/50\n",
      "5000/5000 [==============================] - 11s 2ms/step - loss: 0.0634 - acc: 0.7284 - val_loss: 0.0967 - val_acc: 0.6770\n",
      "Epoch 28/50\n",
      "5000/5000 [==============================] - 11s 2ms/step - loss: 0.0629 - acc: 0.7376 - val_loss: 0.0990 - val_acc: 0.6740\n",
      "Epoch 29/50\n",
      "5000/5000 [==============================] - 11s 2ms/step - loss: 0.0622 - acc: 0.7448 - val_loss: 0.0998 - val_acc: 0.6840\n",
      "Epoch 30/50\n",
      "5000/5000 [==============================] - 11s 2ms/step - loss: 0.0615 - acc: 0.7512 - val_loss: 0.0974 - val_acc: 0.6480\n",
      "Epoch 31/50\n",
      "5000/5000 [==============================] - 10s 2ms/step - loss: 0.0610 - acc: 0.7534 - val_loss: 0.0981 - val_acc: 0.6910\n",
      "Epoch 32/50\n",
      "5000/5000 [==============================] - 10s 2ms/step - loss: 0.0604 - acc: 0.7512 - val_loss: 0.0976 - val_acc: 0.6410\n",
      "Epoch 33/50\n",
      "5000/5000 [==============================] - 10s 2ms/step - loss: 0.0599 - acc: 0.7572 - val_loss: 0.0978 - val_acc: 0.6300\n",
      "Epoch 34/50\n",
      "5000/5000 [==============================] - 10s 2ms/step - loss: 0.0594 - acc: 0.7666 - val_loss: 0.0982 - val_acc: 0.6300\n",
      "Epoch 35/50\n",
      "5000/5000 [==============================] - 12s 2ms/step - loss: 0.0589 - acc: 0.7636 - val_loss: 0.0973 - val_acc: 0.6530\n",
      "Epoch 36/50\n",
      "5000/5000 [==============================] - 11s 2ms/step - loss: 0.0583 - acc: 0.7730 - val_loss: 0.0995 - val_acc: 0.6400\n",
      "Epoch 37/50\n",
      "5000/5000 [==============================] - 10s 2ms/step - loss: 0.0578 - acc: 0.7758 - val_loss: 0.0989 - val_acc: 0.6280\n",
      "Epoch 38/50\n",
      "5000/5000 [==============================] - 10s 2ms/step - loss: 0.0574 - acc: 0.7840 - val_loss: 0.0996 - val_acc: 0.6630\n",
      "Epoch 39/50\n",
      "5000/5000 [==============================] - 10s 2ms/step - loss: 0.0569 - acc: 0.7792 - val_loss: 0.0992 - val_acc: 0.6450\n",
      "Epoch 40/50\n",
      "5000/5000 [==============================] - 10s 2ms/step - loss: 0.0565 - acc: 0.7874 - val_loss: 0.0993 - val_acc: 0.6200\n",
      "Epoch 41/50\n",
      "5000/5000 [==============================] - 10s 2ms/step - loss: 0.0558 - acc: 0.7918 - val_loss: 0.1001 - val_acc: 0.6360\n",
      "Epoch 42/50\n",
      "5000/5000 [==============================] - 11s 2ms/step - loss: 0.0554 - acc: 0.7922 - val_loss: 0.1000 - val_acc: 0.6140\n",
      "Epoch 43/50\n",
      "5000/5000 [==============================] - 11s 2ms/step - loss: 0.0550 - acc: 0.7958 - val_loss: 0.1013 - val_acc: 0.6530\n",
      "Epoch 44/50\n",
      "5000/5000 [==============================] - 10s 2ms/step - loss: 0.0545 - acc: 0.7986 - val_loss: 0.0987 - val_acc: 0.6290\n",
      "Epoch 45/50\n",
      "5000/5000 [==============================] - 10s 2ms/step - loss: 0.0540 - acc: 0.8004 - val_loss: 0.1009 - val_acc: 0.5910\n",
      "Epoch 46/50\n",
      "5000/5000 [==============================] - 10s 2ms/step - loss: 0.0537 - acc: 0.7996 - val_loss: 0.0996 - val_acc: 0.5930\n",
      "Epoch 47/50\n",
      "5000/5000 [==============================] - 10s 2ms/step - loss: 0.0532 - acc: 0.8052 - val_loss: 0.1015 - val_acc: 0.6190\n",
      "Epoch 48/50\n",
      "5000/5000 [==============================] - 10s 2ms/step - loss: 0.0527 - acc: 0.8082 - val_loss: 0.0994 - val_acc: 0.6030\n",
      "Epoch 49/50\n",
      "5000/5000 [==============================] - 10s 2ms/step - loss: 0.0523 - acc: 0.8092 - val_loss: 0.1006 - val_acc: 0.6500\n",
      "Epoch 50/50\n",
      "5000/5000 [==============================] - 11s 2ms/step - loss: 0.0519 - acc: 0.8098 - val_loss: 0.1002 - val_acc: 0.6280\n"
     ]
    }
   ],
   "source": [
    "# Model Training\n",
    "\n",
    "history = model.fit([X_train, sentiment_data_train],\n",
    "                    Y_train,epochs=50,batch_size=32,\n",
    "                    validation_data=([X_val, sentiment_data_val], Y_val))"
   ]
  },
  {
   "cell_type": "markdown",
   "metadata": {
    "colab_type": "text",
    "id": "FdCHo-ajhEF5"
   },
   "source": [
    "**Change in Loss and Accuracy over 50 epochs **"
   ]
  },
  {
   "cell_type": "code",
   "execution_count": 53,
   "metadata": {
    "colab": {
     "base_uri": "https://localhost:8080/",
     "height": 585
    },
    "colab_type": "code",
    "id": "PaP3wR7NzFaG",
    "outputId": "b53fef81-443b-438a-f267-f6232de17aef"
   },
   "outputs": [
    {
     "data": {
      "image/png": "[encoded data removed]",
      "text/plain": [
       "<Figure size 432x288 with 1 Axes>"
      ]
     },
     "metadata": {
      "tags": []
     },
     "output_type": "display_data"
    },
    {
     "data": {
      "image/png": "[encoded data removed]",
      "text/plain": [
       "<Figure size 432x288 with 1 Axes>"
      ]
     },
     "metadata": {
      "tags": []
     },
     "output_type": "display_data"
    }
   ],
   "source": [
    "loss = history.history['loss']\n",
    "val_loss = history.history['val_loss']\n",
    "\n",
    "epochs = range(1,len(loss)+1)\n",
    "\n",
    "plt.plot(epochs,loss,'bo',label='Training loss')\n",
    "plt.plot(epochs,val_loss,'b',label='Validation loss')\n",
    "plt.title('Training and validation loss')\n",
    "plt.xlabel('Epochs')\n",
    "plt.ylabel('Loss')\n",
    "plt.legend()\n",
    "plt.show()\n",
    "\n",
    "\n",
    "plt.figure()\n",
    "acc = history.history['acc']\n",
    "val_acc = history.history['val_acc']\n",
    "plt.plot(epochs, acc, 'bo', label='Training acc')\n",
    "plt.plot(epochs, val_acc, 'b', label='Validation acc')\n",
    "plt.title('Training and validation accuracy')\n",
    "plt.xlabel('Epochs')\n",
    "plt.ylabel('Acc')\n",
    "plt.legend()\n",
    "plt.show()"
   ]
  },
  {
   "cell_type": "markdown",
   "metadata": {
    "colab_type": "text",
    "id": "J9dMxtrshbRr"
   },
   "source": [
    "**Getting Spearman's Correlation Scores**"
   ]
  },
  {
   "cell_type": "code",
   "execution_count": 54,
   "metadata": {
    "colab": {
     "base_uri": "https://localhost:8080/",
     "height": 153
    },
    "colab_type": "code",
    "id": "A_6xB7GxyXdf",
    "outputId": "4177a54b-642f-40cc-90da-daebc1ebd877"
   },
   "outputs": [
    {
     "name": "stdout",
     "output_type": "stream",
     "text": [
      "====================\n",
      "Training Scores\n",
      "The Spearman's correlation coefficient is: 0.734\n",
      "The Spearman's correlation coefficient is: 0.780\n",
      "====================\n",
      "Evaluation Scores\n",
      "The Spearman's correlation coefficient is: 0.390\n",
      "The Spearman's correlation coefficient is: 0.135\n"
     ]
    }
   ],
   "source": [
    "# Get the prediction on train and validation data\n",
    "Y_pred_train = model.predict([X_train, sentiment_data_train])\n",
    "Y_pred_val = model.predict([X_val, sentiment_data_val])\n",
    "\n",
    "# Get the Spearman correlation scores for train and validation data\n",
    "print('='*20)\n",
    "print('Training Scores')\n",
    "Get_score(Y_pred_train,Y_train)\n",
    "print('='*20)\n",
    "print('Evaluation Scores')\n",
    "Get_score(Y_pred_val,Y_val)"
   ]
  },
  {
   "cell_type": "markdown",
   "metadata": {
    "colab_type": "text",
    "id": "IdmS7x9w8-88"
   },
   "source": [
    "**Get the prediction on test data**"
   ]
  },
  {
   "cell_type": "code",
   "execution_count": 0,
   "metadata": {
    "colab": {},
    "colab_type": "code",
    "collapsed": true,
    "id": "ZA3Ruu1H8cRU"
   },
   "outputs": [],
   "source": [
    "# Get the prediction on unseen test data\n",
    "Y_pred_test = model.predict([X_test, sentiment_test_data])\n",
    "Y_pred_test = np.around(Y_pred_test, 3)\n",
    "\n",
    "np.savetxt(\"/content/Test_Pred.csv\", Y_pred_test, delimiter=\",\", fmt='%0.3f')"
   ]
  },
  {
   "cell_type": "markdown",
   "metadata": {
    "colab_type": "text",
    "id": "o4O3qILwvbrt"
   },
   "source": [
    "**Building Model with Caption, Sentiment and Words-Count features**\n",
    "\n"
   ]
  },
  {
   "cell_type": "code",
   "execution_count": 72,
   "metadata": {
    "colab": {
     "base_uri": "https://localhost:8080/",
     "height": 442
    },
    "colab_type": "code",
    "id": "HRy_peWPvmqc",
    "outputId": "c63742f2-dddb-474b-bc27-9bc90580fe84"
   },
   "outputs": [
    {
     "name": "stdout",
     "output_type": "stream",
     "text": [
      "__________________________________________________________________________________________________\n",
      "Layer (type)                    Output Shape         Param #     Connected to                     \n",
      "==================================================================================================\n",
      "caption_input (InputLayer)      (None, 37)           0                                            \n",
      "__________________________________________________________________________________________________\n",
      "embedding_4 (Embedding)         (None, 37, 15)       88050       caption_input[0][0]              \n",
      "__________________________________________________________________________________________________\n",
      "lstm_4 (LSTM)                   (None, 32)           6144        embedding_4[0][0]                \n",
      "__________________________________________________________________________________________________\n",
      "sentiment_input (InputLayer)    (None, 1)            0                                            \n",
      "__________________________________________________________________________________________________\n",
      "word_count_input (InputLayer)   (None, 1)            0                                            \n",
      "__________________________________________________________________________________________________\n",
      "concatenate_4 (Concatenate)     (None, 34)           0           lstm_4[0][0]                     \n",
      "                                                                 sentiment_input[0][0]            \n",
      "                                                                 word_count_input[0][0]           \n",
      "__________________________________________________________________________________________________\n",
      "dense_7 (Dense)                 (None, 10)           350         concatenate_4[0][0]              \n",
      "__________________________________________________________________________________________________\n",
      "dense_8 (Dense)                 (None, 2)            22          dense_7[0][0]                    \n",
      "==================================================================================================\n",
      "Total params: 94,566\n",
      "Trainable params: 94,566\n",
      "Non-trainable params: 0\n",
      "__________________________________________________________________________________________________\n"
     ]
    }
   ],
   "source": [
    "# Building the model using Keras Functional API\n",
    "\n",
    "caption_input = Input(shape=(maxlen,), dtype='int32', name='caption_input')\n",
    "sentiment_input = Input(shape=(1,), name='sentiment_input')\n",
    "word_count_input = Input(shape=(1,), name='word_count_input')\n",
    "\n",
    "x = Embedding(1+X_all.max(),15,input_length=maxlen)(caption_input)\n",
    "x = LSTM(32)(x)\n",
    "x = concatenate([x, sentiment_input, word_count_input])\n",
    "x = Dense(10,activation='relu',kernel_regularizer=regularizers.l1_l2(l1=0.001,l2=0.004))(x)\n",
    "out = Dense(2,activation='sigmoid')(x)\n",
    "\n",
    "model = Model(inputs=[caption_input, sentiment_input, word_count_input], outputs=out)\n",
    "model.compile(optimizer='rmsprop',loss='mae',metrics=['acc'])\n",
    "\n",
    "model.summary()"
   ]
  },
  {
   "cell_type": "code",
   "execution_count": 73,
   "metadata": {
    "colab": {
     "base_uri": "https://localhost:8080/",
     "height": 1788
    },
    "colab_type": "code",
    "id": "sMBq8xDAv0gB",
    "outputId": "5b374ca3-b699-490a-cdb9-5f7acdadcabe"
   },
   "outputs": [
    {
     "name": "stdout",
     "output_type": "stream",
     "text": [
      "Train on 5000 samples, validate on 1000 samples\n",
      "Epoch 1/50\n",
      "5000/5000 [==============================] - 12s 2ms/step - loss: 0.3824 - acc: 0.3942 - val_loss: 0.3151 - val_acc: 0.2910\n",
      "Epoch 2/50\n",
      "5000/5000 [==============================] - 11s 2ms/step - loss: 0.2818 - acc: 0.6894 - val_loss: 0.2489 - val_acc: 0.7090\n",
      "Epoch 3/50\n",
      "5000/5000 [==============================] - 11s 2ms/step - loss: 0.1301 - acc: 0.7036 - val_loss: 0.0919 - val_acc: 0.7090\n",
      "Epoch 4/50\n",
      "5000/5000 [==============================] - 10s 2ms/step - loss: 0.0905 - acc: 0.7040 - val_loss: 0.0923 - val_acc: 0.7090\n",
      "Epoch 5/50\n",
      "5000/5000 [==============================] - 10s 2ms/step - loss: 0.0902 - acc: 0.7040 - val_loss: 0.0958 - val_acc: 0.7090\n",
      "Epoch 6/50\n",
      "5000/5000 [==============================] - 10s 2ms/step - loss: 0.0897 - acc: 0.7040 - val_loss: 0.0911 - val_acc: 0.7090\n",
      "Epoch 7/50\n",
      "5000/5000 [==============================] - 10s 2ms/step - loss: 0.0874 - acc: 0.7040 - val_loss: 0.0891 - val_acc: 0.7090\n",
      "Epoch 8/50\n",
      "5000/5000 [==============================] - 11s 2ms/step - loss: 0.0852 - acc: 0.7040 - val_loss: 0.0912 - val_acc: 0.7090\n",
      "Epoch 9/50\n",
      "5000/5000 [==============================] - 11s 2ms/step - loss: 0.0835 - acc: 0.7040 - val_loss: 0.0884 - val_acc: 0.7090\n",
      "Epoch 10/50\n",
      "5000/5000 [==============================] - 10s 2ms/step - loss: 0.0823 - acc: 0.7040 - val_loss: 0.0881 - val_acc: 0.7090\n",
      "Epoch 11/50\n",
      "5000/5000 [==============================] - 10s 2ms/step - loss: 0.0810 - acc: 0.7040 - val_loss: 0.0898 - val_acc: 0.7090\n",
      "Epoch 12/50\n",
      "5000/5000 [==============================] - 10s 2ms/step - loss: 0.0799 - acc: 0.7040 - val_loss: 0.0890 - val_acc: 0.7090\n",
      "Epoch 13/50\n",
      "5000/5000 [==============================] - 10s 2ms/step - loss: 0.0789 - acc: 0.7040 - val_loss: 0.0888 - val_acc: 0.7090\n",
      "Epoch 14/50\n",
      "5000/5000 [==============================] - 10s 2ms/step - loss: 0.0779 - acc: 0.7040 - val_loss: 0.0889 - val_acc: 0.7090\n",
      "Epoch 15/50\n",
      "5000/5000 [==============================] - 10s 2ms/step - loss: 0.0771 - acc: 0.7040 - val_loss: 0.0903 - val_acc: 0.7090\n",
      "Epoch 16/50\n",
      "5000/5000 [==============================] - 11s 2ms/step - loss: 0.0763 - acc: 0.7040 - val_loss: 0.0897 - val_acc: 0.7090\n",
      "Epoch 17/50\n",
      "5000/5000 [==============================] - 11s 2ms/step - loss: 0.0756 - acc: 0.7040 - val_loss: 0.0900 - val_acc: 0.7090\n",
      "Epoch 18/50\n",
      "5000/5000 [==============================] - 10s 2ms/step - loss: 0.0749 - acc: 0.7040 - val_loss: 0.0908 - val_acc: 0.7090\n",
      "Epoch 19/50\n",
      "5000/5000 [==============================] - 11s 2ms/step - loss: 0.0742 - acc: 0.7040 - val_loss: 0.0942 - val_acc: 0.7090\n",
      "Epoch 20/50\n",
      "5000/5000 [==============================] - 10s 2ms/step - loss: 0.0737 - acc: 0.7040 - val_loss: 0.0917 - val_acc: 0.7090\n",
      "Epoch 21/50\n",
      "5000/5000 [==============================] - 10s 2ms/step - loss: 0.0730 - acc: 0.7040 - val_loss: 0.0929 - val_acc: 0.7090\n",
      "Epoch 22/50\n",
      "5000/5000 [==============================] - 10s 2ms/step - loss: 0.0724 - acc: 0.7040 - val_loss: 0.0922 - val_acc: 0.7090\n",
      "Epoch 23/50\n",
      "5000/5000 [==============================] - 10s 2ms/step - loss: 0.0719 - acc: 0.7040 - val_loss: 0.0929 - val_acc: 0.7090\n",
      "Epoch 24/50\n",
      "5000/5000 [==============================] - 11s 2ms/step - loss: 0.0713 - acc: 0.7040 - val_loss: 0.0938 - val_acc: 0.7090\n",
      "Epoch 25/50\n",
      "5000/5000 [==============================] - 10s 2ms/step - loss: 0.0708 - acc: 0.7040 - val_loss: 0.0929 - val_acc: 0.7090\n",
      "Epoch 26/50\n",
      "5000/5000 [==============================] - 10s 2ms/step - loss: 0.0704 - acc: 0.7040 - val_loss: 0.0937 - val_acc: 0.7090\n",
      "Epoch 27/50\n",
      "5000/5000 [==============================] - 10s 2ms/step - loss: 0.0699 - acc: 0.7040 - val_loss: 0.0943 - val_acc: 0.7090\n",
      "Epoch 28/50\n",
      "5000/5000 [==============================] - 10s 2ms/step - loss: 0.0692 - acc: 0.7040 - val_loss: 0.0958 - val_acc: 0.7090\n",
      "Epoch 29/50\n",
      " 160/5000 [..............................] - ETA: 16s - loss: 0.0648 - acc: 0.7125"
     ]
    },
    {
     "name": "stderr",
     "output_type": "stream",
     "text": [
      "/usr/local/lib/python3.6/dist-packages/keras/callbacks.py:122: UserWarning: Method on_batch_end() is slow compared to the batch update (0.120396). Check your callbacks.\n",
      "  % delta_t_median)\n"
     ]
    },
    {
     "name": "stdout",
     "output_type": "stream",
     "text": [
      "5000/5000 [==============================] - 10s 2ms/step - loss: 0.0689 - acc: 0.7040 - val_loss: 0.0946 - val_acc: 0.7090\n",
      "Epoch 30/50\n",
      "5000/5000 [==============================] - 10s 2ms/step - loss: 0.0685 - acc: 0.7040 - val_loss: 0.0944 - val_acc: 0.7090\n",
      "Epoch 31/50\n",
      "5000/5000 [==============================] - 10s 2ms/step - loss: 0.0680 - acc: 0.7040 - val_loss: 0.0957 - val_acc: 0.7090\n",
      "Epoch 32/50\n",
      "5000/5000 [==============================] - 12s 2ms/step - loss: 0.0676 - acc: 0.7040 - val_loss: 0.0956 - val_acc: 0.7090\n",
      "Epoch 33/50\n",
      "5000/5000 [==============================] - 11s 2ms/step - loss: 0.0674 - acc: 0.7040 - val_loss: 0.0961 - val_acc: 0.7090\n",
      "Epoch 34/50\n",
      "5000/5000 [==============================] - 10s 2ms/step - loss: 0.0670 - acc: 0.7040 - val_loss: 0.0962 - val_acc: 0.7090\n",
      "Epoch 35/50\n",
      "5000/5000 [==============================] - 10s 2ms/step - loss: 0.0667 - acc: 0.7040 - val_loss: 0.0960 - val_acc: 0.7090\n",
      "Epoch 36/50\n",
      "5000/5000 [==============================] - 10s 2ms/step - loss: 0.0662 - acc: 0.7040 - val_loss: 0.0968 - val_acc: 0.7090\n",
      "Epoch 37/50\n",
      "5000/5000 [==============================] - 10s 2ms/step - loss: 0.0663 - acc: 0.7040 - val_loss: 0.0976 - val_acc: 0.7090\n",
      "Epoch 38/50\n",
      "5000/5000 [==============================] - 10s 2ms/step - loss: 0.0658 - acc: 0.7042 - val_loss: 0.0974 - val_acc: 0.7090\n",
      "Epoch 39/50\n",
      "5000/5000 [==============================] - 11s 2ms/step - loss: 0.0655 - acc: 0.7032 - val_loss: 0.0974 - val_acc: 0.7090\n",
      "Epoch 40/50\n",
      "5000/5000 [==============================] - 11s 2ms/step - loss: 0.0652 - acc: 0.7046 - val_loss: 0.0962 - val_acc: 0.7090\n",
      "Epoch 41/50\n",
      "5000/5000 [==============================] - 10s 2ms/step - loss: 0.0650 - acc: 0.7078 - val_loss: 0.0967 - val_acc: 0.7010\n",
      "Epoch 42/50\n",
      "5000/5000 [==============================] - 10s 2ms/step - loss: 0.0646 - acc: 0.7120 - val_loss: 0.0995 - val_acc: 0.7090\n",
      "Epoch 43/50\n",
      "5000/5000 [==============================] - 10s 2ms/step - loss: 0.0645 - acc: 0.7126 - val_loss: 0.0994 - val_acc: 0.7090\n",
      "Epoch 44/50\n",
      "5000/5000 [==============================] - 10s 2ms/step - loss: 0.0643 - acc: 0.7184 - val_loss: 0.0968 - val_acc: 0.6880\n",
      "Epoch 45/50\n",
      "5000/5000 [==============================] - 10s 2ms/step - loss: 0.0640 - acc: 0.7174 - val_loss: 0.0979 - val_acc: 0.6750\n",
      "Epoch 46/50\n",
      "5000/5000 [==============================] - 10s 2ms/step - loss: 0.0638 - acc: 0.7216 - val_loss: 0.0981 - val_acc: 0.6500\n",
      "Epoch 47/50\n",
      "5000/5000 [==============================] - 11s 2ms/step - loss: 0.0636 - acc: 0.7230 - val_loss: 0.1003 - val_acc: 0.6610\n",
      "Epoch 48/50\n",
      "5000/5000 [==============================] - 11s 2ms/step - loss: 0.0634 - acc: 0.7224 - val_loss: 0.0999 - val_acc: 0.6960\n",
      "Epoch 49/50\n",
      "5000/5000 [==============================] - 10s 2ms/step - loss: 0.0630 - acc: 0.7276 - val_loss: 0.1006 - val_acc: 0.6760\n",
      "Epoch 50/50\n",
      "5000/5000 [==============================] - 10s 2ms/step - loss: 0.0630 - acc: 0.7272 - val_loss: 0.0994 - val_acc: 0.6810\n"
     ]
    }
   ],
   "source": [
    "# Model Training\n",
    "history = model.fit([X_train, sentiment_data_train, word_count_data_train],\n",
    "                    Y_train,epochs=50,batch_size=32,\n",
    "                    validation_data=([X_val, sentiment_data_val, word_count_data_val], Y_val))"
   ]
  },
  {
   "cell_type": "markdown",
   "metadata": {
    "colab_type": "text",
    "id": "Te1xKPCGhm5K"
   },
   "source": [
    "**Change in Loss and Accuracy over 50 epochs**"
   ]
  },
  {
   "cell_type": "code",
   "execution_count": 74,
   "metadata": {
    "colab": {
     "base_uri": "https://localhost:8080/",
     "height": 585
    },
    "colab_type": "code",
    "id": "wb37psJRzAml",
    "outputId": "5e3bfc40-b666-49d9-c82f-afb38e8a9c21"
   },
   "outputs": [
    {
     "data": {
      "image/png": "[encoded data removed]",
      "text/plain": [
       "<Figure size 432x288 with 1 Axes>"
      ]
     },
     "metadata": {
      "tags": []
     },
     "output_type": "display_data"
    },
    {
     "data": {
      "image/png": "[encoded data removed]",
      "text/plain": [
       "<Figure size 432x288 with 1 Axes>"
      ]
     },
     "metadata": {
      "tags": []
     },
     "output_type": "display_data"
    }
   ],
   "source": [
    "loss = history.history['loss']\n",
    "val_loss = history.history['val_loss']\n",
    "\n",
    "epochs = range(1,len(loss)+1)\n",
    "\n",
    "plt.plot(epochs,loss,'bo',label='Training loss')\n",
    "plt.plot(epochs,val_loss,'b',label='Validation loss')\n",
    "plt.title('Training and validation loss')\n",
    "plt.xlabel('Epochs')\n",
    "plt.ylabel('Loss')\n",
    "plt.legend()\n",
    "plt.show()\n",
    "\n",
    "\n",
    "plt.figure()\n",
    "acc = history.history['acc']\n",
    "val_acc = history.history['val_acc']\n",
    "plt.plot(epochs, acc, 'bo', label='Training acc')\n",
    "plt.plot(epochs, val_acc, 'b', label='Validation acc')\n",
    "plt.title('Training and validation accuracy')\n",
    "plt.xlabel('Epochs')\n",
    "plt.ylabel('Acc')\n",
    "plt.legend()\n",
    "plt.show()"
   ]
  },
  {
   "cell_type": "markdown",
   "metadata": {
    "colab_type": "text",
    "id": "4mB25vzahsqZ"
   },
   "source": [
    "**Getting Spearman's Correlation Scores**"
   ]
  },
  {
   "cell_type": "code",
   "execution_count": 76,
   "metadata": {
    "colab": {
     "base_uri": "https://localhost:8080/",
     "height": 153
    },
    "colab_type": "code",
    "id": "3omnmUkYy_du",
    "outputId": "58c58f9c-3b2f-4e3b-cdb5-4ae100109b16"
   },
   "outputs": [
    {
     "name": "stdout",
     "output_type": "stream",
     "text": [
      "====================\n",
      "Training Scores\n",
      "The Spearman's correlation coefficient is: 0.413\n",
      "The Spearman's correlation coefficient is: 0.743\n",
      "====================\n",
      "Evaluation Scores\n",
      "The Spearman's correlation coefficient is: 0.234\n",
      "The Spearman's correlation coefficient is: 0.148\n"
     ]
    }
   ],
   "source": [
    "# Get the prediction\n",
    "Y_pred_train = model.predict([X_train, sentiment_data_train, word_count_data_train])\n",
    "Y_pred_val = model.predict([X_val, sentiment_data_val, word_count_data_val])\n",
    "\n",
    "# Get the Spearman correlation scores for train and validation data\n",
    "print('='*20)\n",
    "print('Training Scores')\n",
    "Get_score(Y_pred_train,Y_train)\n",
    "print('='*20)\n",
    "print('Evaluation Scores')\n",
    "Get_score(Y_pred_val,Y_val)"
   ]
  },
  {
   "cell_type": "markdown",
   "metadata": {
    "colab_type": "text",
    "id": "I6lk7HNghf9w"
   },
   "source": [
    "**Building Model with visual features like C3D/HMP**"
   ]
  },
  {
   "cell_type": "code",
   "execution_count": 0,
   "metadata": {
    "colab": {},
    "colab_type": "code",
    "collapsed": true,
    "id": "rKlxFhvrB8iR"
   },
   "outputs": [],
   "source": [
    "# Processing other visual features\n",
    "\n",
    "videoFileNames = getVideoFileNames(basePath +'/dev-set/dev-set_video-captions.txt')\n",
    "\n",
    "# initialize arrays for features\n",
    "c3d_data = np.empty((0,101), int)\n",
    "color_hist_data = np.empty((0,3,256), int)\n",
    "hmp_data = np.empty((0,6075), int)\n",
    "\n",
    "# setup prograss tracker\n",
    "pbar = pyprind.ProgBar(len(videoFileNames), title='Processing Video File Data')\n",
    "\n",
    "# load other features\n",
    "for file in videoFileNames:\n",
    "  c3d_d           = read_C3D(basePath + '/dev-set/C3D/' + file + '.txt')\n",
    "  color_hist_d    = read_ColorHistogram(basePath + '/dev-set/ColorHistogram/' + file + '-112.txt')\n",
    "  hmp_d           = read_HMP(basePath + '/dev-set/HMP/' + file + '.txt')\n",
    "  c3d_data        = np.append(c3d_data, np.array([c3d_d]), axis=0)\n",
    "  color_hist_data = np.append(color_hist_data, np.array([color_hist_d]), axis=0)\n",
    "  hmp_data        = np.append(hmp_data, np.array([hmp_d]), axis=0)\n",
    "  pbar.update()\n",
    "\n",
    "# Split of data into train/validation\n",
    "c3d_data_train = c3d_data[0:5000]\n",
    "c3d_data_val = c3d_data[5000:]\n",
    "\n",
    "color_hist_data_train = color_hist_data[0:5000]\n",
    "color_hist_data_val = color_hist_data[5000:]\n",
    "\n",
    "hmp_data_train = hmp_data[0:5000]\n",
    "hmp_data_val = hmp_data[5000:]"
   ]
  },
  {
   "cell_type": "code",
   "execution_count": 0,
   "metadata": {
    "colab": {},
    "colab_type": "code",
    "collapsed": true,
    "id": "CkLCtY57hxfu"
   },
   "outputs": [],
   "source": [
    "# Building the model using Keras Functional API\n",
    "\n",
    "caption_input = Input(shape=(maxlen,), dtype='int32', name='caption_input')\n",
    "sentiment_input = Input(shape=(1,), name='sentiment_input')\n",
    "c3d_input = Input(shape=(101,), name='c3d_input')\n",
    "hmp_input = Input(shape=(6075,), name='hmp_input')\n",
    "\n",
    "x = Embedding(1+X_all.max(),15,input_length=maxlen)(caption_input)\n",
    "x = LSTM(32)(x)\n",
    "x = concatenate([x, sentiment_input, c3d_input, hmp_input])\n",
    "x = Dense(10,activation='relu',kernel_regularizer=regularizers.l1_l2(l1=0.001,l2=0.004))(x)\n",
    "out = Dense(2,activation='sigmoid')(x)\n",
    "\n",
    "model = Model(inputs=[caption_input, sentiment_input, c3d_input, hmp_input], outputs=out)\n",
    "model.compile(optimizer='rmsprop',loss='mae',metrics=['acc'])\n",
    "\n",
    "model.summary()"
   ]
  },
  {
   "cell_type": "code",
   "execution_count": 0,
   "metadata": {
    "colab": {},
    "colab_type": "code",
    "collapsed": true,
    "id": "lsHHoSQKvvTb"
   },
   "outputs": [],
   "source": [
    "# Model Training\n",
    "history = model.fit([X_train, sentiment_data_train, c3d_data_train, hmp_data_train],\n",
    "                    Y_train,epochs=50,batch_size=32,\n",
    "                    validation_data=([X_val, sentiment_data_val, word_count_data_val, c3d_data_val, hmp_data_val],\n",
    "                                     Y_val))"
   ]
  },
  {
   "cell_type": "code",
   "execution_count": 37,
   "metadata": {
    "colab": {
     "base_uri": "https://localhost:8080/",
     "height": 585
    },
    "colab_type": "code",
    "id": "opdXO5BtpcBV",
    "outputId": "87e0d6cb-b319-4e0f-e1fe-b428470b96b1"
   },
   "outputs": [
    {
     "data": {
      "image/png": "[encoded data removed]",
      "text/plain": [
       "<Figure size 432x288 with 1 Axes>"
      ]
     },
     "metadata": {
      "tags": []
     },
     "output_type": "display_data"
    },
    {
     "data": {
      "image/png": "[encoded data removed]",
      "text/plain": [
       "<Figure size 432x288 with 1 Axes>"
      ]
     },
     "metadata": {
      "tags": []
     },
     "output_type": "display_data"
    }
   ],
   "source": [
    "loss = history.history['loss']\n",
    "val_loss = history.history['val_loss']\n",
    "\n",
    "epochs = range(1,len(loss)+1)\n",
    "\n",
    "plt.plot(epochs,loss,'bo',label='Training loss')\n",
    "plt.plot(epochs,val_loss,'b',label='Validation loss')\n",
    "plt.title('Training and validation loss')\n",
    "plt.xlabel('Epochs')\n",
    "plt.ylabel('Loss')\n",
    "plt.legend()\n",
    "plt.show()\n",
    "\n",
    "\n",
    "plt.figure()\n",
    "acc = history.history['acc']\n",
    "val_acc = history.history['val_acc']\n",
    "plt.plot(epochs, acc, 'bo', label='Training acc')\n",
    "plt.plot(epochs, val_acc, 'b', label='Validation acc')\n",
    "plt.title('Training and validation accuracy')\n",
    "plt.xlabel('Epochs')\n",
    "plt.ylabel('Acc')\n",
    "plt.legend()\n",
    "plt.show()"
   ]
  },
  {
   "cell_type": "markdown",
   "metadata": {
    "colab_type": "text",
    "id": "_vbOfx7Ah8fs"
   },
   "source": [
    "**Getting Spearman's Correlation Scores**"
   ]
  },
  {
   "cell_type": "code",
   "execution_count": 0,
   "metadata": {
    "colab": {},
    "colab_type": "code",
    "collapsed": true,
    "id": "cyHoRCB0yywY"
   },
   "outputs": [],
   "source": [
    "# Get the prediction\n",
    "Y_pred_train = model.predict([X_train, sentiment_data_train, c3d_data_train, hmp_data_train])\n",
    "Y_pred_val = model.predict([X_val, sentiment_data_val, c3d_data_val, hmp_data_val])\n",
    "\n",
    "# Get the Spearman correlation scores for train and validation data\n",
    "print('='*20)\n",
    "print('Training Scores')\n",
    "Get_score(Y_pred_train,Y_train)\n",
    "print('='*20)\n",
    "print('Evaluation Scores')\n",
    "Get_score(Y_pred_val,Y_val)"
   ]
  }
 ],
 "metadata": {
  "accelerator": "GPU",
  "colab": {
   "collapsed_sections": [],
   "name": "VideoMemorability.ipynb",
   "provenance": [],
   "version": "0.3.2"
  },
  "kernelspec": {
   "display_name": "Python 3",
   "language": "python",
   "name": "python3"
  },
  "language_info": {
   "codemirror_mode": {
    "name": "ipython",
    "version": 3
   },
   "file_extension": ".py",
   "mimetype": "text/x-python",
   "name": "python",
   "nbconvert_exporter": "python",
   "pygments_lexer": "ipython3",
   "version": "3.6.2"
  }
 },
 "nbformat": 4,
 "nbformat_minor": 1
}
