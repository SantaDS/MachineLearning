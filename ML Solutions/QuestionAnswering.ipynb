{
 "cells": [
  {
   "cell_type": "code",
   "execution_count": 65,
   "metadata": {
    "collapsed": true
   },
   "outputs": [],
   "source": [
    "import re\n",
    "import json\n",
    "import pandas as pd\n",
    "import matplotlib.pyplot as plt\n",
    "import numpy as np\n",
    "%matplotlib inline"
   ]
  },
  {
   "cell_type": "code",
   "execution_count": 2,
   "metadata": {
    "collapsed": true
   },
   "outputs": [],
   "source": [
    "filename = '/Users/santanubhattacharjee/Data/SQuAD2_0/train-v2_0.json'\n",
    "\n",
    "if filename:\n",
    "    with open(filename, 'r') as f:\n",
    "        squad_dict = json.load(f)"
   ]
  },
  {
   "cell_type": "code",
   "execution_count": 3,
   "metadata": {},
   "outputs": [
    {
     "data": {
      "text/plain": [
       "'v2.0'"
      ]
     },
     "execution_count": 3,
     "metadata": {},
     "output_type": "execute_result"
    }
   ],
   "source": [
    "squad_dict[\"version\"]"
   ]
  },
  {
   "cell_type": "markdown",
   "metadata": {},
   "source": [
    "### Total 442 Titles like 'Beyoncé', 'Frédéric_Chopin', 'Sino-Tibetan_relations_during_the_Ming_dynasty' etc."
   ]
  },
  {
   "cell_type": "code",
   "execution_count": 4,
   "metadata": {},
   "outputs": [
    {
     "data": {
      "text/plain": [
       "442"
      ]
     },
     "execution_count": 4,
     "metadata": {},
     "output_type": "execute_result"
    }
   ],
   "source": [
    "len(squad_dict[\"data\"])\n",
    "\n",
    "# 442 Titles like 'Beyoncé', 'Frédéric_Chopin', 'Sino-Tibetan_relations_during_the_Ming_dynasty' etc."
   ]
  },
  {
   "cell_type": "code",
   "execution_count": 5,
   "metadata": {},
   "outputs": [
    {
     "data": {
      "text/plain": [
       "'Beyoncé'"
      ]
     },
     "execution_count": 5,
     "metadata": {},
     "output_type": "execute_result"
    }
   ],
   "source": [
    "squad_dict[\"data\"][0]['title']"
   ]
  },
  {
   "cell_type": "code",
   "execution_count": 6,
   "metadata": {},
   "outputs": [
    {
     "name": "stdout",
     "output_type": "stream",
     "text": [
      "['Beyoncé', 'Frédéric_Chopin', 'Sino-Tibetan_relations_during_the_Ming_dynasty', 'IPod', 'The_Legend_of_Zelda:_Twilight_Princess', 'Spectre_(2015_film)', '2008_Sichuan_earthquake', 'New_York_City', 'To_Kill_a_Mockingbird', 'Solar_energy', 'Kanye_West', 'Buddhism', 'American_Idol', 'Dog', '2008_Summer_Olympics_torch_relay', 'Genome', 'Comprehensive_school', 'Republic_of_the_Congo', 'Prime_minister', 'Institute_of_technology', 'Wayback_Machine', 'Dutch_Republic', 'Symbiosis', 'Canadian_Armed_Forces', 'Cardinal_(Catholicism)', 'Iranian_languages', 'Lighting', 'Separation_of_powers_under_the_United_States_Constitution', 'Architecture', 'Human_Development_Index', 'Southern_Europe', 'BBC_Television', 'Arnold_Schwarzenegger', 'Plymouth', 'Heresy', 'Warsaw_Pact', 'Materialism', 'Christian', 'Sony_Music_Entertainment', 'Oklahoma_City', 'Hunter-gatherer', 'United_Nations_Population_Fund', 'Russian_Soviet_Federative_Socialist_Republic', 'Alexander_Graham_Bell', 'Pub', 'Internet_service_provider', 'Comics', 'Saint_Helena', 'Aspirated_consonant', 'Hydrogen', 'Space_Race', 'Web_browser', 'BeiDou_Navigation_Satellite_System', 'Canon_law', 'Communications_in_Somalia', 'Catalan_language', 'Boston', 'Universal_Studios', 'Estonian_language', 'Paper', 'Adult_contemporary_music', 'Daylight_saving_time', 'Royal_Institute_of_British_Architects', 'National_Archives_and_Records_Administration', 'Tristan_da_Cunha', 'University_of_Kansas', 'Nanjing', 'Arena_Football_League', 'Dialect', 'Bern', 'Westminster_Abbey', 'Political_corruption', 'Classical_music', 'Slavs', 'Southampton', 'Treaty', 'Josip_Broz_Tito', 'Marshall_Islands', 'Szlachta', 'Virgil', 'Alps', 'Gene', 'Guinea-Bissau', 'List_of_numbered_streets_in_Manhattan', 'Brain', 'Near_East', 'Zhejiang', 'Ministry_of_Defence_(United_Kingdom)', 'High-definition_television', 'Wood', 'Somalis', 'Middle_Ages', 'Phonology', 'Computer', 'Black_people', 'The_Times', 'New_Delhi', 'Bird_migration', 'Atlantic_City,_New_Jersey', 'Immunology', 'MP3', 'House_music', 'Letter_case', 'Chihuahua_(state)', 'Imamah_(Shia_doctrine)', 'Pitch_(music)', 'England_national_football_team', 'Houston', 'Copper', 'Identity_(social_science)', 'Himachal_Pradesh', 'Communication', 'Grape', 'Computer_security', 'Orthodox_Judaism', 'Animal', 'Beer', 'Race_and_ethnicity_in_the_United_States_Census', 'United_States_dollar', 'Imperial_College_London', 'Hanover', 'Emotion', 'Everton_F.C.', 'Old_English', 'Aircraft_carrier', 'Federal_Aviation_Administration', 'Lancashire', 'Mesozoic', 'Videoconferencing', 'Gregorian_calendar', 'Xbox_360', 'Military_history_of_the_United_States', 'Hard_rock', 'Great_Plains', 'Infrared', 'Biodiversity', 'ASCII', 'Digestion', 'Gymnastics', 'FC_Barcelona', 'Federal_Bureau_of_Investigation', 'Mary_(mother_of_Jesus)', 'Melbourne', 'John,_King_of_England', 'Macintosh', 'Anti-aircraft_warfare', 'Sanskrit', 'Valencia', 'General_Electric', 'United_States_Army', 'Franco-Prussian_War', 'Adolescence', 'Antarctica', 'Eritrea', 'Uranium', 'Order_of_the_British_Empire', 'Circadian_rhythm', 'Elizabeth_II', 'Sexual_orientation', 'Dell', 'Capital_punishment_in_the_United_States', 'Age_of_Enlightenment', 'Nintendo_Entertainment_System', 'Athanasius_of_Alexandria', 'Seattle', 'Memory', 'Multiracial_American', 'Ashkenazi_Jews', 'Pharmaceutical_industry', 'Umayyad_Caliphate', 'Asphalt', 'Queen_Victoria', 'Freemasonry', 'Israel', 'Hellenistic_period', 'Bill_%26_Melinda_Gates_Foundation', 'Montevideo', 'Poultry', 'Dutch_language', 'Buckingham_Palace', 'Incandescent_light_bulb', 'Arsenal_F.C.', 'Clothing', 'Chicago_Cubs', 'Korean_War', 'Copyright_infringement', 'Greece', 'Royal_Dutch_Shell', 'Mammal', 'East_India_Company', 'Hokkien', 'Professional_wrestling', 'Film_speed', 'Mexico_City', 'Napoleon', 'Germans', 'Southeast_Asia', 'Brigham_Young_University', 'Department_store', 'Intellectual_property', 'Florida', 'Queen_(band)', 'Presbyterianism', 'Thuringia', 'Predation', 'Marvel_Comics', 'British_Empire', 'Botany', 'Madonna_(entertainer)', 'Law_of_the_United_States', 'Myanmar', 'Jews', 'Cotton', 'Data_compression', 'The_Sun_(United_Kingdom)', 'Pesticide', 'Somerset', 'Yale_University', 'Late_Middle_Ages', 'Ann_Arbor,_Michigan', 'Gothic_architecture', 'Cubism', 'Political_philosophy', 'Alloy', 'Norfolk_Island', 'Edmund_Burke', 'Samoa', 'Pope_Paul_VI', 'Electric_motor', 'Switzerland', 'Mali', 'Raleigh,_North_Carolina', 'Nutrition', 'Crimean_War', 'Nonprofit_organization', 'Literature', 'Avicenna', 'Chinese_characters', 'Bermuda', 'Nigeria', 'Utrecht', 'Molotov%E2%80%93Ribbentrop_Pact', 'Capacitor', 'History_of_science', 'Digimon', 'Glacier', 'Comcast', 'Tuberculosis', 'Affirmative_action_in_the_United_States', 'FA_Cup', 'New_Haven,_Connecticut', 'Alsace', 'Carnival', 'Baptists', 'Child_labour', 'North_Carolina', 'Heian_period', 'On_the_Origin_of_Species', 'Dissolution_of_the_Soviet_Union', 'Crucifixion_of_Jesus', 'Supreme_court', 'Textual_criticism', 'Gramophone_record', 'Turner_Classic_Movies', 'Hindu_philosophy', 'Political_party', 'A_cappella', 'Dominican_Order', 'Eton_College', 'Cork_(city)', 'Galicia_(Spain)', 'USB', 'Sichuan', 'Unicode', 'Detroit', 'London', 'Culture', 'Sahara', 'Rule_of_law', 'Tibet', 'Exhibition_game', 'Northwestern_University', 'Strasbourg', 'Oklahoma', 'History_of_India', 'Gamal_Abdel_Nasser', 'Pope_John_XXIII', 'Time', 'European_Central_Bank', 'St._John%27s,_Newfoundland_and_Labrador', 'John_von_Neumann', 'PlayStation_3', 'Royal_assent', 'Group_(mathematics)', 'Central_African_Republic', 'Asthma', 'LaserDisc', 'George_VI', 'Federalism', 'Annelid', 'God', 'War_on_Terror', 'Labour_Party_(UK)', 'Estonia', 'Alaska', 'Karl_Popper', 'Mandolin', 'Insect', 'Race_(human_categorization)', 'Paris', 'Apollo', 'United_States_presidential_election,_2004', 'Liberal_Party_of_Australia', 'Samurai', 'Software_testing', 'States_of_Germany', 'Glass', 'Planck_constant', 'Renewable_energy_commercialization', 'Palermo', 'Green', 'Zinc', 'Neoclassical_architecture', 'Serbo-Croatian', 'CBC_Television', 'Appalachian_Mountains', 'IBM', 'Energy', 'East_Prussia', 'Ottoman_Empire', 'Philosophy_of_space_and_time', 'Neolithic', 'Friedrich_Hayek', 'Diarrhea', 'Madrasa', 'Miami', 'Philadelphia', 'John_Kerry', 'Rajasthan', 'Guam', 'Empiricism', 'Idealism', 'Czech_language', 'Education', 'Tennessee', 'Post-punk', 'Canadian_football', 'Seven_Years%27_War', 'Richard_Feynman', 'Muammar_Gaddafi', 'Cyprus', 'Steven_Spielberg', 'Elevator', 'Neptune', 'Railway_electrification_system', 'Spanish_language_in_the_United_States', 'Charleston,_South_Carolina', 'The_Blitz', 'Endangered_Species_Act', 'Vacuum', 'Han_dynasty', 'Quran', 'Geography_of_the_United_States', 'Compact_disc', 'Transistor', 'Modern_history', '51st_state', 'Antenna_(radio)', 'Flowering_plant', 'Hyderabad', 'Santa_Monica,_California', 'Washington_University_in_St._Louis', 'Central_Intelligence_Agency', 'Pain', 'Database', 'Tucson,_Arizona', 'Armenia', 'Bacteria', 'Printed_circuit_board', 'Greeks', 'Premier_League', 'Roman_Republic', 'Pacific_War', 'San_Diego', 'Muslim_world', 'Iran', 'British_Isles', 'Association_football', 'Georgian_architecture', 'Liberia', 'Alfred_North_Whitehead', 'Antibiotics', 'Windows_8', 'Swaziland', 'Translation', 'Airport', 'Kievan_Rus%27', 'Super_Nintendo_Entertainment_System', 'Sumer', 'Tuvalu', 'Immaculate_Conception', 'Namibia', 'Russian_language', 'United_States_Air_Force', 'Light-emitting_diode', 'Great_power', 'Bird', 'Qing_dynasty', 'Indigenous_peoples_of_the_Americas', 'Red', 'Egypt', 'Mosaic', 'University', 'Religion_in_ancient_Rome', 'YouTube', 'Separation_of_church_and_state_in_the_United_States', 'Protestantism', 'Bras%C3%ADlia', 'Economy_of_Greece', 'Party_leaders_of_the_United_States_House_of_Representatives', 'Armenians', 'Jehovah%27s_Witnesses', 'Dwight_D._Eisenhower', 'The_Bronx', 'Financial_crisis_of_2007%E2%80%9308', 'Portugal', 'Humanism', 'Geological_history_of_Earth', 'Police', 'Genocide', 'Saint_Barth%C3%A9lemy', 'Tajikistan', 'University_of_Notre_Dame', 'Anthropology', 'Montana', 'Punjab,_Pakistan', 'Richmond,_Virginia', 'Infection', 'Hunting', 'Kathmandu', 'Myocardial_infarction', 'Matter']\n"
     ]
    }
   ],
   "source": [
    "import io\n",
    "titles = []\n",
    "for title in squad_dict[\"data\"]:\n",
    "    titles.append(title['title'])\n",
    "\n",
    "df1 = pd.DataFrame({'Titles': titles})\n",
    "#pd.concat([df.T[x] for x in df.T], ignore_index=True)\n",
    "print(titles)\n",
    "#df1.to_csv('SquadTitles.csv')"
   ]
  },
  {
   "cell_type": "markdown",
   "metadata": {},
   "source": [
    "### Total 19,035 paragraphs available in training dataset (Avg 43 paragraphs per title)"
   ]
  },
  {
   "cell_type": "code",
   "execution_count": 7,
   "metadata": {},
   "outputs": [
    {
     "name": "stdout",
     "output_type": "stream",
     "text": [
      "Pragraphs count by title: [10, 10, 12, 12, 12, 12, 12, 13, 13, 14, 16, 16, 16, 17, 18, 18, 20, 20, 21, 21, 21, 21, 21, 21, 21, 21, 21, 21, 21, 21, 21, 21, 21, 21, 21, 21, 22, 22, 22, 22, 22, 22, 22, 22, 22, 22, 22, 23, 23, 23, 23, 23, 23, 23, 23, 23, 23, 23, 23, 23, 23, 23, 23, 23, 23, 23, 23, 23, 24, 24, 24, 24, 24, 24, 24, 24, 24, 24, 24, 24, 24, 24, 24, 24, 25, 25, 25, 25, 25, 25, 25, 25, 25, 25, 25, 25, 25, 25, 25, 25, 25, 25, 25, 25, 25, 26, 26, 26, 26, 26, 26, 26, 26, 26, 26, 26, 26, 26, 26, 26, 26, 26, 26, 27, 27, 27, 27, 27, 27, 27, 27, 27, 27, 27, 28, 28, 28, 28, 28, 28, 29, 29, 29, 29, 29, 29, 29, 29, 29, 29, 30, 30, 30, 30, 30, 30, 31, 31, 31, 31, 31, 31, 31, 31, 31, 31, 31, 32, 32, 32, 32, 32, 32, 32, 32, 32, 32, 32, 32, 32, 33, 33, 33, 33, 33, 34, 34, 34, 34, 34, 34, 34, 34, 34, 34, 34, 34, 34, 34, 35, 35, 35, 35, 35, 35, 35, 35, 35, 35, 35, 36, 36, 36, 36, 36, 36, 36, 36, 36, 37, 37, 37, 37, 37, 38, 38, 38, 38, 38, 38, 38, 38, 39, 39, 39, 39, 39, 40, 40, 40, 40, 40, 40, 40, 41, 41, 41, 41, 42, 42, 42, 42, 42, 43, 43, 43, 43, 43, 43, 44, 44, 44, 44, 44, 44, 44, 44, 44, 44, 44, 44, 44, 45, 45, 45, 45, 45, 45, 46, 46, 46, 46, 46, 47, 47, 47, 47, 48, 48, 48, 48, 48, 48, 49, 49, 49, 49, 49, 50, 50, 50, 50, 50, 50, 50, 50, 50, 51, 51, 51, 51, 51, 52, 52, 52, 52, 52, 52, 52, 52, 52, 53, 53, 53, 53, 55, 55, 55, 55, 55, 56, 56, 56, 56, 56, 57, 57, 57, 57, 57, 57, 58, 58, 59, 59, 59, 59, 59, 60, 60, 60, 60, 60, 61, 61, 61, 61, 61, 61, 61, 62, 62, 62, 62, 63, 63, 63, 63, 64, 64, 64, 64, 65, 65, 66, 66, 66, 66, 66, 67, 67, 67, 68, 69, 70, 70, 70, 70, 71, 71, 72, 72, 73, 74, 74, 74, 75, 75, 75, 76, 76, 76, 77, 77, 77, 77, 78, 78, 79, 79, 79, 79, 80, 80, 81, 81, 81, 82, 82, 82, 82, 83, 85, 86, 87, 87, 88, 89, 90, 90, 92, 93, 94, 94, 95, 95, 95, 98, 99, 127, 148, 149]\n",
      "Total number of paragraphs: 19035\n"
     ]
    }
   ],
   "source": [
    "list1 = []\n",
    "for i in range(len(squad_dict[\"data\"])):\n",
    "    list1.extend([len(squad_dict[\"data\"][i]['paragraphs'])])\n",
    "\n",
    "list1.sort()\n",
    "\n",
    "print('Pragraphs count by title:', list1)\n",
    "print('Total number of paragraphs:', sum(list1))\n",
    "\n",
    "# Total 19,035 passages available in training dataset "
   ]
  },
  {
   "cell_type": "markdown",
   "metadata": {},
   "source": [
    "### Paragraphs distribution over titles (by count)"
   ]
  },
  {
   "cell_type": "code",
   "execution_count": 8,
   "metadata": {},
   "outputs": [
    {
     "data": {
      "image/png": "[encoded data removed]",
      "text/plain": [
       "<matplotlib.figure.Figure at 0x11d0d7f60>"
      ]
     },
     "metadata": {},
     "output_type": "display_data"
    }
   ],
   "source": [
    "data = np.asarray(list1) \n",
    "bins = range(10,150)\n",
    "plt.xlim([min(data), max(data)+5])\n",
    "plt.hist(data, bins=bins)\n",
    "plt.title('Paragraphs Distribution (per titles)')\n",
    "plt.xlabel('Number of paragraphs per title')\n",
    "plt.ylabel('Count')\n",
    "\n",
    "plt.show()"
   ]
  },
  {
   "cell_type": "code",
   "execution_count": 55,
   "metadata": {},
   "outputs": [
    {
     "name": "stdout",
     "output_type": "stream",
     "text": [
      "[]\n",
      "{'what': 0, 'when': 0, 'where': 0, 'which': 1, 'who': 0, 'whose': 0, 'why': 0, 'how': 0}\n"
     ]
    }
   ],
   "source": [
    "questions_categories_count = {'what': 0, 'when':0, 'where':0, 'which':0, 'who':0, 'whose':0, 'why':0, 'how':0}\n",
    "wh_ques_flag = False\n",
    "other_ques = []\n",
    "\n",
    "test_str = \"In which city and state did Beyonce  grow up?\"\n",
    "\n",
    "for word in test_str.lower().split():\n",
    "    if word in questions_categories_count:\n",
    "        questions_categories_count[word] += 1\n",
    "        wh_ques_flag = True\n",
    "        break\n",
    "\n",
    "if wh_ques_flag == False:\n",
    "    other_ques.append(test_str)\n",
    "wh_ques_flag = False\n",
    "\n",
    "print(other_ques)\n",
    "print(questions_categories_count)"
   ]
  },
  {
   "cell_type": "code",
   "execution_count": 70,
   "metadata": {},
   "outputs": [
    {
     "data": {
      "text/plain": [
       "['according',\n",
       " 'to',\n",
       " 'diane',\n",
       " 'mcwhorter',\n",
       " 'every',\n",
       " 'child',\n",
       " 'in',\n",
       " 'the',\n",
       " 'south',\n",
       " 'had',\n",
       " 'to',\n",
       " 'face',\n",
       " 'what']"
      ]
     },
     "execution_count": 70,
     "metadata": {},
     "output_type": "execute_result"
    }
   ],
   "source": [
    "question = re.sub('[^A-Za-z0-9]+', ' ', 'According to Diane McWhorter, every child in the South had to face what?')\n",
    "x = question.lower().split()\n",
    "x"
   ]
  },
  {
   "cell_type": "code",
   "execution_count": 75,
   "metadata": {},
   "outputs": [
    {
     "name": "stdout",
     "output_type": "stream",
     "text": [
      "{'what': 77272, 'when': 8209, 'where': 5283, 'which': 8233, 'who': 13410, 'whose': 462, 'whom': 448, 'why': 1907, 'how': 13277}\n",
      "1818\n"
     ]
    }
   ],
   "source": [
    "questions_categories_count = {'what': 0, 'when':0, 'where':0, 'which':0, 'who':0, 'whose':0, 'whom':0, 'why':0, 'how':0}\n",
    "wh_ques_flag = False\n",
    "other_ques = []\n",
    "ques = []\n",
    "\n",
    "for i in range(len(squad_dict[\"data\"])):\n",
    "    for j in range(len(squad_dict[\"data\"][i]['paragraphs'])):\n",
    "        for k in range(len(squad_dict[\"data\"][i]['paragraphs'][j]['qas'])):\n",
    "            question = re.sub('[^A-Za-z0-9]+', ' ', squad_dict[\"data\"][i]['paragraphs'][j]['qas'][k]['question'])\n",
    "            for word in question.lower().split():\n",
    "                if word in questions_categories_count:\n",
    "                    questions_categories_count[word] += 1\n",
    "                    wh_ques_flag = True\n",
    "                    lst = question.lower().split()\n",
    "                    if lst.index(word) > 0 and len(ques) < 50:\n",
    "                        ques.append(squad_dict[\"data\"][i]['paragraphs'][j]['qas'][k]['question'])\n",
    "                    break\n",
    "                \n",
    "            if wh_ques_flag == False:\n",
    "                other_ques.append(squad_dict[\"data\"][i]['paragraphs'][j]['qas'][k]['question'])\n",
    "            wh_ques_flag = False\n",
    "                        \n",
    "\n",
    "print(questions_categories_count)\n",
    "print(len(other_ques))\n",
    "#print(ques)"
   ]
  },
  {
   "cell_type": "markdown",
   "metadata": {},
   "source": [
    "### Total questions: 1,30,319 and Min and Max questions from a paragraph: 1, 30 (Avg 7 questions per paragraphs)"
   ]
  },
  {
   "cell_type": "code",
   "execution_count": 25,
   "metadata": {},
   "outputs": [
    {
     "name": "stdout",
     "output_type": "stream",
     "text": [
      "Questions count by title (min and max): 1 30\n",
      "Total number of questions: 130319\n"
     ]
    }
   ],
   "source": [
    "list2 = []\n",
    "for i in range(len(squad_dict[\"data\"])):\n",
    "    for j in range(len(squad_dict[\"data\"][i]['paragraphs'])):\n",
    "        list2.extend([len(squad_dict[\"data\"][i]['paragraphs'][j]['qas'])])\n",
    "\n",
    "list2.sort()\n",
    "\n",
    "print('Questions count by title (min and max):', list2[0], list2[len(list2)-1])\n",
    "print('Total number of questions:', sum(list2))"
   ]
  },
  {
   "cell_type": "markdown",
   "metadata": {},
   "source": [
    "### Questions distribution over paragraphs (by count)"
   ]
  },
  {
   "cell_type": "code",
   "execution_count": 34,
   "metadata": {},
   "outputs": [
    {
     "data": {
      "image/png": "[encoded data removed]",
      "text/plain": [
       "<Figure size 432x288 with 1 Axes>"
      ]
     },
     "metadata": {
      "needs_background": "light"
     },
     "output_type": "display_data"
    }
   ],
   "source": [
    "data = np.asarray(list2) \n",
    "bins = range(1,30)\n",
    "plt.xlim([min(data), max(data)+5])\n",
    "plt.hist(data, bins=bins)\n",
    "plt.title('Questions Distribution (per paragraph)')\n",
    "plt.xlabel('Number of questions per paragraph')\n",
    "plt.ylabel('Count')\n",
    "\n",
    "plt.show()"
   ]
  },
  {
   "cell_type": "code",
   "execution_count": 4,
   "metadata": {},
   "outputs": [
    {
     "data": {
      "text/plain": [
       "13"
      ]
     },
     "execution_count": 4,
     "metadata": {},
     "output_type": "execute_result"
    }
   ],
   "source": [
    "len(squad_dict[\"data\"][0]['paragraphs'][3]['qas'])"
   ]
  },
  {
   "cell_type": "code",
   "execution_count": 5,
   "metadata": {},
   "outputs": [
    {
     "name": "stdout",
     "output_type": "stream",
     "text": [
      "Pragraphs count by title: [21, 21, 22, 22, 23, 23, 24, 24, 25, 25, 26, 26, 26, 28, 30, 31, 31, 37, 39, 39, 39, 39, 39, 40, 43, 44, 44, 44, 44, 46, 46, 47, 48, 49, 49]\n",
      "Total number of paragraphs: 1204\n"
     ]
    },
    {
     "data": {
      "image/png": "[encoded data removed]",
      "text/plain": [
       "<Figure size 432x288 with 1 Axes>"
      ]
     },
     "metadata": {
      "needs_background": "light"
     },
     "output_type": "display_data"
    },
    {
     "name": "stdout",
     "output_type": "stream",
     "text": [
      "Questions count by title (min and max): 3 28\n",
      "Total number of questions: 11873\n"
     ]
    }
   ],
   "source": [
    "filename = '/Users/santanubhattacharjee/Data/SQuAD2_0/dev-v2_0.json'\n",
    "\n",
    "if filename:\n",
    "    with open(filename, 'r') as f:\n",
    "        squad_dict = json.load(f)\n",
    "        \n",
    "list1 = []\n",
    "for i in range(len(squad_dict[\"data\"])):\n",
    "    list1.extend([len(squad_dict[\"data\"][i]['paragraphs'])])\n",
    "\n",
    "list1.sort()\n",
    "\n",
    "print('Pragraphs count by title:', list1)\n",
    "print('Total number of paragraphs:', sum(list1))\n",
    "\n",
    "data = np.asarray(list1) \n",
    "bins = range(10,150)\n",
    "plt.xlim([min(data), max(data)+5])\n",
    "plt.hist(data, bins=bins)\n",
    "plt.title('Paragraphs Distribution (per titles)')\n",
    "plt.xlabel('Number of paragraphs per title')\n",
    "plt.ylabel('Count')\n",
    "\n",
    "plt.show()\n",
    "\n",
    "list2 = []\n",
    "for i in range(len(squad_dict[\"data\"])):\n",
    "    for j in range(len(squad_dict[\"data\"][i]['paragraphs'])):\n",
    "        list2.extend([len(squad_dict[\"data\"][i]['paragraphs'][j]['qas'])])\n",
    "\n",
    "list2.sort()\n",
    "\n",
    "print('Questions count by title (min and max):', list2[0], list2[len(list2)-1])\n",
    "print('Total number of questions:', sum(list2))"
   ]
  },
  {
   "cell_type": "code",
   "execution_count": 8,
   "metadata": {},
   "outputs": [
    {
     "data": {
      "text/plain": [
       "range"
      ]
     },
     "execution_count": 8,
     "metadata": {},
     "output_type": "execute_result"
    }
   ],
   "source": [
    "type(range(5))"
   ]
  },
  {
   "cell_type": "code",
   "execution_count": null,
   "metadata": {
    "collapsed": true
   },
   "outputs": [],
   "source": []
  }
 ],
 "metadata": {
  "kernelspec": {
   "display_name": "Python 3",
   "language": "python",
   "name": "python3"
  },
  "language_info": {
   "codemirror_mode": {
    "name": "ipython",
    "version": 3
   },
   "file_extension": ".py",
   "mimetype": "text/x-python",
   "name": "python",
   "nbconvert_exporter": "python",
   "pygments_lexer": "ipython3",
   "version": "3.6.2"
  }
 },
 "nbformat": 4,
 "nbformat_minor": 2
}
